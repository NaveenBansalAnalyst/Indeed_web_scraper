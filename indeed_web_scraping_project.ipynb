{
 "cells": [
  {
   "cell_type": "markdown",
   "id": "44896577",
   "metadata": {},
   "source": [
    "# Indeed web scraping project"
   ]
  },
  {
   "cell_type": "code",
   "execution_count": 1,
   "id": "2815a0b7",
   "metadata": {},
   "outputs": [],
   "source": [
    "import csv\n",
    "from bs4 import BeautifulSoup\n",
    "from datetime import datetime"
   ]
  },
  {
   "cell_type": "code",
   "execution_count": 2,
   "id": "cc8578f2",
   "metadata": {},
   "outputs": [],
   "source": [
    "from selenium import webdriver"
   ]
  },
  {
   "cell_type": "markdown",
   "id": "064942a8",
   "metadata": {},
   "source": [
    "# Starting up the webdriver"
   ]
  },
  {
   "cell_type": "code",
   "execution_count": 28,
   "id": "6c619a4e",
   "metadata": {},
   "outputs": [],
   "source": [
    "driver = webdriver.Chrome()"
   ]
  },
  {
   "cell_type": "code",
   "execution_count": 29,
   "id": "dc6e7b75",
   "metadata": {},
   "outputs": [],
   "source": [
    "url = 'https://in.indeed.com'\n",
    "driver.get(url)"
   ]
  },
  {
   "cell_type": "code",
   "execution_count": 30,
   "id": "495f1211",
   "metadata": {},
   "outputs": [],
   "source": [
    "def get_url(position, location):\n",
    "    template = 'https://in.indeed.com/jobs?q={}&l={}&from=searchOnHP&vjk=96800a585102f7fa'\n",
    "    position = position.replace(' ', '+')\n",
    "    location = location.replace(' ', '+')\n",
    "    return template.format(position, location)"
   ]
  },
  {
   "cell_type": "code",
   "execution_count": 31,
   "id": "6d382082",
   "metadata": {},
   "outputs": [],
   "source": [
    "driver.get(get_url('data analyst', 'noida'))"
   ]
  },
  {
   "cell_type": "markdown",
   "id": "07749009",
   "metadata": {},
   "source": [
    "# Extracting the data"
   ]
  },
  {
   "cell_type": "code",
   "execution_count": 7,
   "id": "4a69be25",
   "metadata": {},
   "outputs": [],
   "source": [
    "soup = BeautifulSoup(driver.page_source, 'html.parser')"
   ]
  },
  {
   "cell_type": "code",
   "execution_count": 8,
   "id": "03116c0e",
   "metadata": {},
   "outputs": [],
   "source": [
    "results = soup.find_all('div', {'class' : 'slider_item css-kyg8or eu4oa1w0'})"
   ]
  },
  {
   "cell_type": "code",
   "execution_count": 9,
   "id": "521cecb6",
   "metadata": {},
   "outputs": [
    {
     "data": {
      "text/plain": [
       "15"
      ]
     },
     "execution_count": 9,
     "metadata": {},
     "output_type": "execute_result"
    }
   ],
   "source": [
    "len(results)"
   ]
  },
  {
   "cell_type": "markdown",
   "id": "402eac34",
   "metadata": {},
   "source": [
    "# Prototype the record"
   ]
  },
  {
   "cell_type": "code",
   "execution_count": 10,
   "id": "b0743285",
   "metadata": {},
   "outputs": [
    {
     "name": "stdout",
     "output_type": "stream",
     "text": [
      "Data Analyst\n"
     ]
    }
   ],
   "source": [
    "item = results[0]\n",
    "\n",
    "atag = item.h2.a\n",
    "job_title = atag.text\n",
    "print(job_title)\n",
    "\n"
   ]
  },
  {
   "cell_type": "code",
   "execution_count": 11,
   "id": "665b9aa5",
   "metadata": {},
   "outputs": [],
   "source": [
    "company_name = item.find('span', 'companyName').text"
   ]
  },
  {
   "cell_type": "code",
   "execution_count": 12,
   "id": "c3075de8",
   "metadata": {},
   "outputs": [],
   "source": [
    "try:\n",
    "    rating_of_company = item.find('span', 'ratingNumber').text\n",
    "except AttributeError:\n",
    "    rating_of_company = ''"
   ]
  },
  {
   "cell_type": "code",
   "execution_count": 13,
   "id": "bc599a68",
   "metadata": {},
   "outputs": [],
   "source": [
    "date_of_posting = item.find('span', 'date').text"
   ]
  },
  {
   "cell_type": "code",
   "execution_count": 14,
   "id": "12c18c30",
   "metadata": {},
   "outputs": [],
   "source": [
    "today = datetime.today().strftime('%Y-%m-%d')"
   ]
  },
  {
   "cell_type": "code",
   "execution_count": 15,
   "id": "300c85ab",
   "metadata": {},
   "outputs": [],
   "source": [
    "try:\n",
    "    salary_range = item.find('div', 'attribute_snippet').text\n",
    "except AttributeError:\n",
    "    salary_range = ''"
   ]
  },
  {
   "cell_type": "markdown",
   "id": "c8c45c0e",
   "metadata": {},
   "source": [
    "# Generalize the pattern"
   ]
  },
  {
   "cell_type": "code",
   "execution_count": 16,
   "id": "d74b215e",
   "metadata": {},
   "outputs": [],
   "source": [
    "def get_record(item):\n",
    "    \n",
    "    atag = item.h2.a\n",
    "    job_title = atag.text\n",
    "    \n",
    "    company_name = item.find('span', 'companyName').text\n",
    "    \n",
    "    try:\n",
    "        rating_of_company = item.find('span', 'ratingNumber').text\n",
    "    except AttributeError:\n",
    "        rating_of_company = ''\n",
    "        \n",
    "        \n",
    "    date_of_posting = item.find('span', 'date').text   \n",
    "    today = datetime.today().strftime('%Y-%m-%d')\n",
    "    \n",
    "    try:\n",
    "        salary_range = item.find('div', 'attribute_snippet').text\n",
    "    except AttributeError:\n",
    "        salary_range = ''\n",
    "        \n",
    "  \n",
    "    \n",
    "    record = (job_title, company_name, rating_of_company, date_of_posting, today, salary_range)\n",
    "    \n",
    "    return record\n",
    "        \n",
    "        "
   ]
  },
  {
   "cell_type": "code",
   "execution_count": 17,
   "id": "329d2421",
   "metadata": {},
   "outputs": [],
   "source": [
    "records = []\n",
    "\n",
    "results = soup.find_all('div', {'class' : 'slider_item css-kyg8or eu4oa1w0'})\n",
    "\n",
    "for item in results:\n",
    "    records.append(get_record(item))\n"
   ]
  },
  {
   "cell_type": "code",
   "execution_count": 18,
   "id": "0456205a",
   "metadata": {},
   "outputs": [
    {
     "data": {
      "text/plain": [
       "('Data Analyst',\n",
       " 'Zones',\n",
       " '2.8',\n",
       " 'PostedPosted 5 days ago',\n",
       " '2023-01-03',\n",
       " 'Full-time')"
      ]
     },
     "execution_count": 18,
     "metadata": {},
     "output_type": "execute_result"
    }
   ],
   "source": [
    "records[0]"
   ]
  },
  {
   "cell_type": "markdown",
   "id": "89f7b6b1",
   "metadata": {},
   "source": [
    "# Getting to the next page"
   ]
  },
  {
   "cell_type": "code",
   "execution_count": 33,
   "id": "721a744b",
   "metadata": {},
   "outputs": [],
   "source": [
    "while True:\n",
    "    try:\n",
    "        url = 'https://in.indeed.com' + soup.find('a', {'aria-label' : 'Next Page'}).get('href')\n",
    "    except AttributeError:\n",
    "        break\n",
    "        \n",
    "        \n",
    "    driver.get(url)\n",
    "    soup = BeautifulSoup(driver.page_source, 'html.parser')\n",
    "    results = soup.find_all('div', {'class' : 'slider_item css-kyg8or eu4oa1w0'})\n",
    "    \n",
    "    for item in results:\n",
    "        records.append(get_record(item))"
   ]
  },
  {
   "cell_type": "code",
   "execution_count": 23,
   "id": "757bdb01",
   "metadata": {},
   "outputs": [
    {
     "data": {
      "text/plain": [
       "330"
      ]
     },
     "execution_count": 23,
     "metadata": {},
     "output_type": "execute_result"
    }
   ],
   "source": [
    "len(records)"
   ]
  },
  {
   "cell_type": "markdown",
   "id": "79e02a56",
   "metadata": {},
   "source": [
    "# Putting it all together"
   ]
  },
  {
   "cell_type": "code",
   "execution_count": 26,
   "id": "8b5bf614",
   "metadata": {},
   "outputs": [],
   "source": [
    "import csv\n",
    "from bs4 import BeautifulSoup\n",
    "from datetime import datetime\n",
    "\n",
    "from selenium import webdriver\n",
    "\n",
    "def get_url(position, location):\n",
    "    template = 'https://in.indeed.com/jobs?q={}&l={}&from=searchOnHP&vjk=96800a585102f7fa'\n",
    "    position = position.replace(' ', '+')\n",
    "    location = location.replace(' ', '+')\n",
    "    return template.format(position, location)\n",
    "\n",
    "\n",
    "def get_record(item):\n",
    "    \n",
    "    atag = item.h2.a\n",
    "    job_title = atag.text\n",
    "    \n",
    "    company_name = item.find('span', 'companyName').text\n",
    "    \n",
    "    try:\n",
    "        rating_of_company = item.find('span', 'ratingNumber').text\n",
    "    except AttributeError:\n",
    "        rating_of_company = ''\n",
    "        \n",
    "        \n",
    "    date_of_posting = item.find('span', 'date').text   \n",
    "    today = datetime.today().strftime('%Y-%m-%d')\n",
    "    \n",
    "    try:\n",
    "        salary_range = item.find('div', 'attribute_snippet').text\n",
    "    except AttributeError:\n",
    "        salary_range = ''\n",
    "        \n",
    "  \n",
    "    \n",
    "    record = (job_title, company_name, rating_of_company, date_of_posting, today, salary_range)\n",
    "    \n",
    "    return record\n",
    "\n",
    "\n",
    "\n",
    "def main(position, location):\n",
    "    \n",
    "    records = []\n",
    "    url = get_url(position, location)\n",
    "    \n",
    "    while True:\n",
    "        driver.get(url)\n",
    "        soup = BeautifulSoup(driver.page_source, 'html.parser')\n",
    "        results = soup.find_all('div', {'class' : 'slider_item css-kyg8or eu4oa1w0'})\n",
    "        \n",
    "        for item in results:\n",
    "            records.append(get_record(item))\n",
    "      \n",
    "    \n",
    "        try:\n",
    "            url = 'https://in.indeed.com' + soup.find('a', {'aria-label' : 'Next Page'}).get('href')\n",
    "        except AttributeError:\n",
    "            break\n",
    "        \n",
    "        \n",
    "    driver.close()   \n",
    "    \n",
    "           \n",
    "    # save the job data\n",
    "    \n",
    "    with open('indeedposting.csv', 'w', newline='', encoding='UTF-8') as f:\n",
    "        writer = csv.writer(f)\n",
    "        writer.writerow(['Job_title', 'Company_name', 'Rating_of_company', 'Date_of_posting', 'Today', 'Salary_range'])\n",
    "        writer.writerows(records)\n",
    "        \n",
    "    \n"
   ]
  },
  {
   "cell_type": "code",
   "execution_count": 32,
   "id": "60965ac1",
   "metadata": {},
   "outputs": [],
   "source": [
    "main('data analyst', 'noida')"
   ]
  },
  {
   "cell_type": "code",
   "execution_count": null,
   "id": "b8c52359",
   "metadata": {},
   "outputs": [],
   "source": []
  }
 ],
 "metadata": {
  "kernelspec": {
   "display_name": "Python 3 (ipykernel)",
   "language": "python",
   "name": "python3"
  },
  "language_info": {
   "codemirror_mode": {
    "name": "ipython",
    "version": 3
   },
   "file_extension": ".py",
   "mimetype": "text/x-python",
   "name": "python",
   "nbconvert_exporter": "python",
   "pygments_lexer": "ipython3",
   "version": "3.9.13"
  }
 },
 "nbformat": 4,
 "nbformat_minor": 5
}
